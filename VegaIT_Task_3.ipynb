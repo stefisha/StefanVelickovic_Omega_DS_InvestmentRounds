{
  "nbformat": 4,
  "nbformat_minor": 0,
  "metadata": {
    "colab": {
      "provenance": [],
      "authorship_tag": "ABX9TyNycXqcaq97mXMLbh3MuASz",
      "include_colab_link": true
    },
    "kernelspec": {
      "name": "python3",
      "display_name": "Python 3"
    },
    "language_info": {
      "name": "python"
    }
  },
  "cells": [
    {
      "cell_type": "markdown",
      "metadata": {
        "id": "view-in-github",
        "colab_type": "text"
      },
      "source": [
        "<a href=\"https://colab.research.google.com/github/stefisha/StefanVelickovic_Omega_DS_InvestmentRounds/blob/main/VegaIT_Task_3.ipynb\" target=\"_parent\"><img src=\"https://colab.research.google.com/assets/colab-badge.svg\" alt=\"Open In Colab\"/></a>"
      ]
    },
    {
      "cell_type": "code",
      "source": [
        "%pip install memory_profiler"
      ],
      "metadata": {
        "colab": {
          "base_uri": "https://localhost:8080/"
        },
        "id": "stWyxW5IuYUw",
        "outputId": "617ffc57-c98b-44ac-dd08-4644209ba3e7"
      },
      "execution_count": null,
      "outputs": [
        {
          "output_type": "stream",
          "name": "stdout",
          "text": [
            "Requirement already satisfied: memory_profiler in /usr/local/lib/python3.10/dist-packages (0.61.0)\n",
            "Requirement already satisfied: psutil in /usr/local/lib/python3.10/dist-packages (from memory_profiler) (5.9.5)\n"
          ]
        }
      ]
    },
    {
      "cell_type": "markdown",
      "source": [
        "For the sake of performance, we will keep track of memory usage and execution time:\n",
        "### 1.Time Measurement:\n",
        "\n",
        "- The `time.time()` function captures the start and end time around the function execution.\n",
        "- The difference between the end and start time is the total time taken by the function to execute.\n",
        "\n",
        "### 2.Memory Usage Measurement:\n",
        "\n",
        "- The `memory_profiler` package's `memory_usage()` function tracks the memory used by the specified function. It returns the peak memory usage as well as the function's return value.\n",
        "- We have to install `memory_profile`r if you haven't already using this command: `pip install memory-profiler`"
      ],
      "metadata": {
        "id": "J7xvFd8iwABe"
      }
    },
    {
      "cell_type": "code",
      "execution_count": null,
      "metadata": {
        "id": "MA2LI7enm0iM"
      },
      "outputs": [],
      "source": [
        "from google.colab import drive\n",
        "import pandas as pd\n",
        "import time\n",
        "from memory_profiler import memory_usage"
      ]
    },
    {
      "cell_type": "code",
      "source": [
        "# Mount Google Drive\n",
        "drive.mount('/content/drive')"
      ],
      "metadata": {
        "colab": {
          "base_uri": "https://localhost:8080/"
        },
        "id": "1zUbIA4bnBrI",
        "outputId": "d8583149-b4ec-4ba8-8b4e-2da862f53b83"
      },
      "execution_count": null,
      "outputs": [
        {
          "output_type": "stream",
          "name": "stdout",
          "text": [
            "Drive already mounted at /content/drive; to attempt to forcibly remount, call drive.mount(\"/content/drive\", force_remount=True).\n"
          ]
        }
      ]
    },
    {
      "cell_type": "code",
      "source": [
        "# Defining the file path to the CSV file on Google Drive\n",
        "file_path = '/content/drive/MyDrive/Data Science Task - VegaIT/python_task_data.csv'  # Update this path if needed"
      ],
      "metadata": {
        "id": "O0lkhKqfnDEF"
      },
      "execution_count": null,
      "outputs": []
    },
    {
      "cell_type": "code",
      "source": [
        "# Reading the CSV file\n",
        "df = pd.read_csv(file_path)"
      ],
      "metadata": {
        "id": "qYfmpGLInIZZ"
      },
      "execution_count": null,
      "outputs": []
    },
    {
      "cell_type": "code",
      "source": [
        "# Display the first few rows of the data\n",
        "df.head()"
      ],
      "metadata": {
        "colab": {
          "base_uri": "https://localhost:8080/",
          "height": 206
        },
        "id": "yAiM-HjmnNvk",
        "outputId": "f0dd2086-7fa1-496d-96b6-f7acb3e94603"
      },
      "execution_count": null,
      "outputs": [
        {
          "output_type": "execute_result",
          "data": {
            "text/plain": [
              "     permalink      company  numEmps category        city state fundedDate  \\\n",
              "0     lifelock     LifeLock      NaN      web       Tempe    AZ   1-May-07   \n",
              "1     lifelock     LifeLock      NaN      web       Tempe    AZ   1-Oct-06   \n",
              "2     lifelock     LifeLock      NaN      web       Tempe    AZ   1-Jan-08   \n",
              "3  mycityfaces  MyCityFaces      7.0      web  Scottsdale    AZ   1-Jan-08   \n",
              "4     flypaper     Flypaper      NaN      web     Phoenix    AZ   1-Feb-08   \n",
              "\n",
              "   raisedAmt raisedCurrency round  \n",
              "0    6850000            USD     b  \n",
              "1    6000000            USD     a  \n",
              "2   25000000            USD     c  \n",
              "3      50000            USD  seed  \n",
              "4    3000000            USD     a  "
            ],
            "text/html": [
              "\n",
              "  <div id=\"df-62cd6c4e-e43a-4c14-a3d7-fc6be1567326\" class=\"colab-df-container\">\n",
              "    <div>\n",
              "<style scoped>\n",
              "    .dataframe tbody tr th:only-of-type {\n",
              "        vertical-align: middle;\n",
              "    }\n",
              "\n",
              "    .dataframe tbody tr th {\n",
              "        vertical-align: top;\n",
              "    }\n",
              "\n",
              "    .dataframe thead th {\n",
              "        text-align: right;\n",
              "    }\n",
              "</style>\n",
              "<table border=\"1\" class=\"dataframe\">\n",
              "  <thead>\n",
              "    <tr style=\"text-align: right;\">\n",
              "      <th></th>\n",
              "      <th>permalink</th>\n",
              "      <th>company</th>\n",
              "      <th>numEmps</th>\n",
              "      <th>category</th>\n",
              "      <th>city</th>\n",
              "      <th>state</th>\n",
              "      <th>fundedDate</th>\n",
              "      <th>raisedAmt</th>\n",
              "      <th>raisedCurrency</th>\n",
              "      <th>round</th>\n",
              "    </tr>\n",
              "  </thead>\n",
              "  <tbody>\n",
              "    <tr>\n",
              "      <th>0</th>\n",
              "      <td>lifelock</td>\n",
              "      <td>LifeLock</td>\n",
              "      <td>NaN</td>\n",
              "      <td>web</td>\n",
              "      <td>Tempe</td>\n",
              "      <td>AZ</td>\n",
              "      <td>1-May-07</td>\n",
              "      <td>6850000</td>\n",
              "      <td>USD</td>\n",
              "      <td>b</td>\n",
              "    </tr>\n",
              "    <tr>\n",
              "      <th>1</th>\n",
              "      <td>lifelock</td>\n",
              "      <td>LifeLock</td>\n",
              "      <td>NaN</td>\n",
              "      <td>web</td>\n",
              "      <td>Tempe</td>\n",
              "      <td>AZ</td>\n",
              "      <td>1-Oct-06</td>\n",
              "      <td>6000000</td>\n",
              "      <td>USD</td>\n",
              "      <td>a</td>\n",
              "    </tr>\n",
              "    <tr>\n",
              "      <th>2</th>\n",
              "      <td>lifelock</td>\n",
              "      <td>LifeLock</td>\n",
              "      <td>NaN</td>\n",
              "      <td>web</td>\n",
              "      <td>Tempe</td>\n",
              "      <td>AZ</td>\n",
              "      <td>1-Jan-08</td>\n",
              "      <td>25000000</td>\n",
              "      <td>USD</td>\n",
              "      <td>c</td>\n",
              "    </tr>\n",
              "    <tr>\n",
              "      <th>3</th>\n",
              "      <td>mycityfaces</td>\n",
              "      <td>MyCityFaces</td>\n",
              "      <td>7.0</td>\n",
              "      <td>web</td>\n",
              "      <td>Scottsdale</td>\n",
              "      <td>AZ</td>\n",
              "      <td>1-Jan-08</td>\n",
              "      <td>50000</td>\n",
              "      <td>USD</td>\n",
              "      <td>seed</td>\n",
              "    </tr>\n",
              "    <tr>\n",
              "      <th>4</th>\n",
              "      <td>flypaper</td>\n",
              "      <td>Flypaper</td>\n",
              "      <td>NaN</td>\n",
              "      <td>web</td>\n",
              "      <td>Phoenix</td>\n",
              "      <td>AZ</td>\n",
              "      <td>1-Feb-08</td>\n",
              "      <td>3000000</td>\n",
              "      <td>USD</td>\n",
              "      <td>a</td>\n",
              "    </tr>\n",
              "  </tbody>\n",
              "</table>\n",
              "</div>\n",
              "    <div class=\"colab-df-buttons\">\n",
              "\n",
              "  <div class=\"colab-df-container\">\n",
              "    <button class=\"colab-df-convert\" onclick=\"convertToInteractive('df-62cd6c4e-e43a-4c14-a3d7-fc6be1567326')\"\n",
              "            title=\"Convert this dataframe to an interactive table.\"\n",
              "            style=\"display:none;\">\n",
              "\n",
              "  <svg xmlns=\"http://www.w3.org/2000/svg\" height=\"24px\" viewBox=\"0 -960 960 960\">\n",
              "    <path d=\"M120-120v-720h720v720H120Zm60-500h600v-160H180v160Zm220 220h160v-160H400v160Zm0 220h160v-160H400v160ZM180-400h160v-160H180v160Zm440 0h160v-160H620v160ZM180-180h160v-160H180v160Zm440 0h160v-160H620v160Z\"/>\n",
              "  </svg>\n",
              "    </button>\n",
              "\n",
              "  <style>\n",
              "    .colab-df-container {\n",
              "      display:flex;\n",
              "      gap: 12px;\n",
              "    }\n",
              "\n",
              "    .colab-df-convert {\n",
              "      background-color: #E8F0FE;\n",
              "      border: none;\n",
              "      border-radius: 50%;\n",
              "      cursor: pointer;\n",
              "      display: none;\n",
              "      fill: #1967D2;\n",
              "      height: 32px;\n",
              "      padding: 0 0 0 0;\n",
              "      width: 32px;\n",
              "    }\n",
              "\n",
              "    .colab-df-convert:hover {\n",
              "      background-color: #E2EBFA;\n",
              "      box-shadow: 0px 1px 2px rgba(60, 64, 67, 0.3), 0px 1px 3px 1px rgba(60, 64, 67, 0.15);\n",
              "      fill: #174EA6;\n",
              "    }\n",
              "\n",
              "    .colab-df-buttons div {\n",
              "      margin-bottom: 4px;\n",
              "    }\n",
              "\n",
              "    [theme=dark] .colab-df-convert {\n",
              "      background-color: #3B4455;\n",
              "      fill: #D2E3FC;\n",
              "    }\n",
              "\n",
              "    [theme=dark] .colab-df-convert:hover {\n",
              "      background-color: #434B5C;\n",
              "      box-shadow: 0px 1px 3px 1px rgba(0, 0, 0, 0.15);\n",
              "      filter: drop-shadow(0px 1px 2px rgba(0, 0, 0, 0.3));\n",
              "      fill: #FFFFFF;\n",
              "    }\n",
              "  </style>\n",
              "\n",
              "    <script>\n",
              "      const buttonEl =\n",
              "        document.querySelector('#df-62cd6c4e-e43a-4c14-a3d7-fc6be1567326 button.colab-df-convert');\n",
              "      buttonEl.style.display =\n",
              "        google.colab.kernel.accessAllowed ? 'block' : 'none';\n",
              "\n",
              "      async function convertToInteractive(key) {\n",
              "        const element = document.querySelector('#df-62cd6c4e-e43a-4c14-a3d7-fc6be1567326');\n",
              "        const dataTable =\n",
              "          await google.colab.kernel.invokeFunction('convertToInteractive',\n",
              "                                                    [key], {});\n",
              "        if (!dataTable) return;\n",
              "\n",
              "        const docLinkHtml = 'Like what you see? Visit the ' +\n",
              "          '<a target=\"_blank\" href=https://colab.research.google.com/notebooks/data_table.ipynb>data table notebook</a>'\n",
              "          + ' to learn more about interactive tables.';\n",
              "        element.innerHTML = '';\n",
              "        dataTable['output_type'] = 'display_data';\n",
              "        await google.colab.output.renderOutput(dataTable, element);\n",
              "        const docLink = document.createElement('div');\n",
              "        docLink.innerHTML = docLinkHtml;\n",
              "        element.appendChild(docLink);\n",
              "      }\n",
              "    </script>\n",
              "  </div>\n",
              "\n",
              "\n",
              "<div id=\"df-47342315-a4a6-4478-9bb0-e1021f4a2f78\">\n",
              "  <button class=\"colab-df-quickchart\" onclick=\"quickchart('df-47342315-a4a6-4478-9bb0-e1021f4a2f78')\"\n",
              "            title=\"Suggest charts\"\n",
              "            style=\"display:none;\">\n",
              "\n",
              "<svg xmlns=\"http://www.w3.org/2000/svg\" height=\"24px\"viewBox=\"0 0 24 24\"\n",
              "     width=\"24px\">\n",
              "    <g>\n",
              "        <path d=\"M19 3H5c-1.1 0-2 .9-2 2v14c0 1.1.9 2 2 2h14c1.1 0 2-.9 2-2V5c0-1.1-.9-2-2-2zM9 17H7v-7h2v7zm4 0h-2V7h2v10zm4 0h-2v-4h2v4z\"/>\n",
              "    </g>\n",
              "</svg>\n",
              "  </button>\n",
              "\n",
              "<style>\n",
              "  .colab-df-quickchart {\n",
              "      --bg-color: #E8F0FE;\n",
              "      --fill-color: #1967D2;\n",
              "      --hover-bg-color: #E2EBFA;\n",
              "      --hover-fill-color: #174EA6;\n",
              "      --disabled-fill-color: #AAA;\n",
              "      --disabled-bg-color: #DDD;\n",
              "  }\n",
              "\n",
              "  [theme=dark] .colab-df-quickchart {\n",
              "      --bg-color: #3B4455;\n",
              "      --fill-color: #D2E3FC;\n",
              "      --hover-bg-color: #434B5C;\n",
              "      --hover-fill-color: #FFFFFF;\n",
              "      --disabled-bg-color: #3B4455;\n",
              "      --disabled-fill-color: #666;\n",
              "  }\n",
              "\n",
              "  .colab-df-quickchart {\n",
              "    background-color: var(--bg-color);\n",
              "    border: none;\n",
              "    border-radius: 50%;\n",
              "    cursor: pointer;\n",
              "    display: none;\n",
              "    fill: var(--fill-color);\n",
              "    height: 32px;\n",
              "    padding: 0;\n",
              "    width: 32px;\n",
              "  }\n",
              "\n",
              "  .colab-df-quickchart:hover {\n",
              "    background-color: var(--hover-bg-color);\n",
              "    box-shadow: 0 1px 2px rgba(60, 64, 67, 0.3), 0 1px 3px 1px rgba(60, 64, 67, 0.15);\n",
              "    fill: var(--button-hover-fill-color);\n",
              "  }\n",
              "\n",
              "  .colab-df-quickchart-complete:disabled,\n",
              "  .colab-df-quickchart-complete:disabled:hover {\n",
              "    background-color: var(--disabled-bg-color);\n",
              "    fill: var(--disabled-fill-color);\n",
              "    box-shadow: none;\n",
              "  }\n",
              "\n",
              "  .colab-df-spinner {\n",
              "    border: 2px solid var(--fill-color);\n",
              "    border-color: transparent;\n",
              "    border-bottom-color: var(--fill-color);\n",
              "    animation:\n",
              "      spin 1s steps(1) infinite;\n",
              "  }\n",
              "\n",
              "  @keyframes spin {\n",
              "    0% {\n",
              "      border-color: transparent;\n",
              "      border-bottom-color: var(--fill-color);\n",
              "      border-left-color: var(--fill-color);\n",
              "    }\n",
              "    20% {\n",
              "      border-color: transparent;\n",
              "      border-left-color: var(--fill-color);\n",
              "      border-top-color: var(--fill-color);\n",
              "    }\n",
              "    30% {\n",
              "      border-color: transparent;\n",
              "      border-left-color: var(--fill-color);\n",
              "      border-top-color: var(--fill-color);\n",
              "      border-right-color: var(--fill-color);\n",
              "    }\n",
              "    40% {\n",
              "      border-color: transparent;\n",
              "      border-right-color: var(--fill-color);\n",
              "      border-top-color: var(--fill-color);\n",
              "    }\n",
              "    60% {\n",
              "      border-color: transparent;\n",
              "      border-right-color: var(--fill-color);\n",
              "    }\n",
              "    80% {\n",
              "      border-color: transparent;\n",
              "      border-right-color: var(--fill-color);\n",
              "      border-bottom-color: var(--fill-color);\n",
              "    }\n",
              "    90% {\n",
              "      border-color: transparent;\n",
              "      border-bottom-color: var(--fill-color);\n",
              "    }\n",
              "  }\n",
              "</style>\n",
              "\n",
              "  <script>\n",
              "    async function quickchart(key) {\n",
              "      const quickchartButtonEl =\n",
              "        document.querySelector('#' + key + ' button');\n",
              "      quickchartButtonEl.disabled = true;  // To prevent multiple clicks.\n",
              "      quickchartButtonEl.classList.add('colab-df-spinner');\n",
              "      try {\n",
              "        const charts = await google.colab.kernel.invokeFunction(\n",
              "            'suggestCharts', [key], {});\n",
              "      } catch (error) {\n",
              "        console.error('Error during call to suggestCharts:', error);\n",
              "      }\n",
              "      quickchartButtonEl.classList.remove('colab-df-spinner');\n",
              "      quickchartButtonEl.classList.add('colab-df-quickchart-complete');\n",
              "    }\n",
              "    (() => {\n",
              "      let quickchartButtonEl =\n",
              "        document.querySelector('#df-47342315-a4a6-4478-9bb0-e1021f4a2f78 button');\n",
              "      quickchartButtonEl.style.display =\n",
              "        google.colab.kernel.accessAllowed ? 'block' : 'none';\n",
              "    })();\n",
              "  </script>\n",
              "</div>\n",
              "    </div>\n",
              "  </div>\n"
            ],
            "application/vnd.google.colaboratory.intrinsic+json": {
              "type": "dataframe",
              "variable_name": "df",
              "summary": "{\n  \"name\": \"df\",\n  \"rows\": 1460,\n  \"fields\": [\n    {\n      \"column\": \"permalink\",\n      \"properties\": {\n        \"dtype\": \"string\",\n        \"num_unique_values\": 909,\n        \"samples\": [\n          \"ripl\",\n          \"centerd\",\n          \"snap-technologies\"\n        ],\n        \"semantic_type\": \"\",\n        \"description\": \"\"\n      }\n    },\n    {\n      \"column\": \"company\",\n      \"properties\": {\n        \"dtype\": \"string\",\n        \"num_unique_values\": 909,\n        \"samples\": [\n          \"Ripl\",\n          \"Center'd\",\n          \"Snap Technologies\"\n        ],\n        \"semantic_type\": \"\",\n        \"description\": \"\"\n      }\n    },\n    {\n      \"column\": \"numEmps\",\n      \"properties\": {\n        \"dtype\": \"number\",\n        \"std\": 867.5242870621624,\n        \"min\": 0.0,\n        \"max\": 20000.0,\n        \"num_unique_values\": 72,\n        \"samples\": [\n          60.0,\n          23.0,\n          0.0\n        ],\n        \"semantic_type\": \"\",\n        \"description\": \"\"\n      }\n    },\n    {\n      \"column\": \"category\",\n      \"properties\": {\n        \"dtype\": \"category\",\n        \"num_unique_values\": 8,\n        \"samples\": [\n          \"software\",\n          \"biotech\",\n          \"web\"\n        ],\n        \"semantic_type\": \"\",\n        \"description\": \"\"\n      }\n    },\n    {\n      \"column\": \"city\",\n      \"properties\": {\n        \"dtype\": \"category\",\n        \"num_unique_values\": 193,\n        \"samples\": [\n          \"Marina del Rey\",\n          \"Omaha\",\n          \"Norwalk\"\n        ],\n        \"semantic_type\": \"\",\n        \"description\": \"\"\n      }\n    },\n    {\n      \"column\": \"state\",\n      \"properties\": {\n        \"dtype\": \"category\",\n        \"num_unique_values\": 33,\n        \"samples\": [\n          \"VA\",\n          \"MI\",\n          \"PA\"\n        ],\n        \"semantic_type\": \"\",\n        \"description\": \"\"\n      }\n    },\n    {\n      \"column\": \"fundedDate\",\n      \"properties\": {\n        \"dtype\": \"object\",\n        \"num_unique_values\": 386,\n        \"samples\": [\n          \"31-Oct-07\",\n          \"14-Apr-06\",\n          \"15-Jul-08\"\n        ],\n        \"semantic_type\": \"\",\n        \"description\": \"\"\n      }\n    },\n    {\n      \"column\": \"raisedAmt\",\n      \"properties\": {\n        \"dtype\": \"number\",\n        \"std\": 18661461,\n        \"min\": 6000,\n        \"max\": 300000000,\n        \"num_unique_values\": 281,\n        \"samples\": [\n          7500000,\n          8250000,\n          27400000\n        ],\n        \"semantic_type\": \"\",\n        \"description\": \"\"\n      }\n    },\n    {\n      \"column\": \"raisedCurrency\",\n      \"properties\": {\n        \"dtype\": \"category\",\n        \"num_unique_values\": 3,\n        \"samples\": [\n          \"USD\",\n          \"EUR\",\n          \"CAD\"\n        ],\n        \"semantic_type\": \"\",\n        \"description\": \"\"\n      }\n    },\n    {\n      \"column\": \"round\",\n      \"properties\": {\n        \"dtype\": \"category\",\n        \"num_unique_values\": 9,\n        \"samples\": [\n          \"unattributed\",\n          \"a\",\n          \"debt_round\"\n        ],\n        \"semantic_type\": \"\",\n        \"description\": \"\"\n      }\n    }\n  ]\n}"
            }
          },
          "metadata": {},
          "execution_count": 45
        }
      ]
    },
    {
      "cell_type": "markdown",
      "source": [
        "## 1. Processing Data in Chunks\n",
        "\n",
        "Instead of loading the entire dataset into memory, which can be problematic for large datasets, we process the data in smaller chunks. This way, only a subset of the data is loaded at any time, significantly reducing memory consumption."
      ],
      "metadata": {
        "id": "BnfdnrURtetg"
      }
    },
    {
      "cell_type": "code",
      "source": [
        "# Define chunk size for processing large datasets in small portions\n",
        "chunk_size = 10000  # Adjust based on your system's memory"
      ],
      "metadata": {
        "id": "ZlEZVnnvscEc"
      },
      "execution_count": null,
      "outputs": []
    },
    {
      "cell_type": "markdown",
      "source": [
        "**Why this is efficient**:\n",
        "By using chunks, only the data that is currently being processed resides in memory, and once a chunk is processed, it is discarded, keeping memory usage low."
      ],
      "metadata": {
        "id": "7hjEp3tGtjZ1"
      }
    },
    {
      "cell_type": "markdown",
      "source": [
        "## 2. Optimizing Data Types with `dtypes`\n",
        "Pandas will automatically infer data types when loading data, which might not always be memory efficient. You can manually specify the types of each column to minimize the memory footprint, especially for categorical data."
      ],
      "metadata": {
        "id": "7pYZbusFtqAY"
      }
    },
    {
      "cell_type": "code",
      "source": [
        "# Define memory-efficient data types for each column\n",
        "dtype_dict = {\n",
        "    'permalink': 'category',  # Using 'category' for strings with repeated values to save memory\n",
        "    'company': 'category',\n",
        "    'category': 'category',\n",
        "    'city': 'category',\n",
        "    'state': 'category',\n",
        "    'raisedAmt': 'float64',   # Keep raisedAmt as float for financial calculations\n",
        "    'round': 'category'       # Use 'category' to save space for the 'round' column\n",
        "}"
      ],
      "metadata": {
        "id": "sWxTP29Usfw4"
      },
      "execution_count": null,
      "outputs": []
    },
    {
      "cell_type": "markdown",
      "source": [
        "**Why this is efficient**:\n",
        "Categorical data types reduce memory usage by internally representing string values as integers. For large datasets with repeated string values (e.g., `city`, `category`), this can significantly reduce memory consumption."
      ],
      "metadata": {
        "id": "7tydlI5LtwEM"
      }
    },
    {
      "cell_type": "markdown",
      "source": [
        "## 3. Loading Only Necessary Columns\n",
        "Instead of loading the entire dataset, you can load only the specific columns that are necessary for your calculation or analysis. This avoids loading irrelevant data, which can save memory."
      ],
      "metadata": {
        "id": "Ww7hYco-t3XI"
      }
    },
    {
      "cell_type": "code",
      "source": [
        "# List of columns to load (optimize by loading only the required columns)\n",
        "columns_to_load = ['raisedAmt', 'round']"
      ],
      "metadata": {
        "id": "28GCJJHusfuE"
      },
      "execution_count": null,
      "outputs": []
    },
    {
      "cell_type": "markdown",
      "source": [
        "Why this is efficient:\n",
        "By loading only the columns you need, you reduce the amount of data in memory. For example, if you only care about `raisedAmt` and `round`, there's no need to load columns like `company` or `city`."
      ],
      "metadata": {
        "id": "BQ9rE0Ftt5uB"
      }
    },
    {
      "cell_type": "code",
      "source": [
        "# Generator function to process the data chunk by chunk with minimal memory usage\n",
        "def series_a_funding_generator(file_path, chunk_size=10000):\n",
        "    for chunk in pd.read_csv(file_path, chunksize=chunk_size, dtype=dtype_dict, usecols=columns_to_load):\n",
        "        # Filter the chunk for Series A funding rounds\n",
        "        yield chunk[chunk['round'] == 'a']"
      ],
      "metadata": {
        "id": "0eYc19Plsfrl"
      },
      "execution_count": null,
      "outputs": []
    },
    {
      "cell_type": "markdown",
      "source": [
        "## 4. Using Generators to Stream Data\n",
        "A generator yields one piece of data at a time and doesn't hold all data in memory at once. This method ensures that intermediate results are not kept in memory after they've been processed."
      ],
      "metadata": {
        "id": "LBmmeuKCuBDi"
      }
    },
    {
      "cell_type": "code",
      "source": [
        "# Function to calculate total and average Series A funding\n",
        "def calculate_series_a_funding():\n",
        "    # Initialize the total amount and count of Series A funding rounds\n",
        "    total_series_a = 0\n",
        "    count_series_a = 0\n",
        "\n",
        "    # Process the file in chunks, summing the Series A funding amounts and counting rows\n",
        "    for chunk in series_a_funding_generator(file_path, chunk_size=chunk_size):\n",
        "        total_series_a += chunk['raisedAmt'].astype(float).sum()\n",
        "        count_series_a += chunk.shape[0]  # Count the number of Series A rows in the chunk\n",
        "\n",
        "    # Calculate the average Series A funding amount\n",
        "    average_series_a = total_series_a / count_series_a if count_series_a != 0 else 0\n",
        "\n",
        "    # Return the total and average amounts\n",
        "    return total_series_a, average_series_a"
      ],
      "metadata": {
        "id": "dEfa6GubsrIc"
      },
      "execution_count": null,
      "outputs": []
    },
    {
      "cell_type": "markdown",
      "source": [
        "**Why this is efficient:**\n",
        "A generator processes each chunk one at a time without storing all intermediate results in memory. This approach ensures that only the current chunk is loaded and processed, keeping memory usage to a minimum."
      ],
      "metadata": {
        "id": "_SbAUJYyuEM1"
      }
    },
    {
      "cell_type": "code",
      "source": [
        "# Measure execution time\n",
        "start_time = time.time()"
      ],
      "metadata": {
        "id": "EX2kR_BEuwh3"
      },
      "execution_count": null,
      "outputs": []
    },
    {
      "cell_type": "code",
      "source": [
        "# Measure memory usage and call the function\n",
        "memory_used = memory_usage(calculate_series_a_funding, retval=True)"
      ],
      "metadata": {
        "id": "oDbcSBDWuwf2"
      },
      "execution_count": null,
      "outputs": []
    },
    {
      "cell_type": "code",
      "source": [
        "# Extract memory information and results\n",
        "peak_memory = max(memory_used[0])  # Peak memory usage\n",
        "result = memory_used[1]  # The result of the function call"
      ],
      "metadata": {
        "id": "s5n-Shx_uwdc"
      },
      "execution_count": null,
      "outputs": []
    },
    {
      "cell_type": "code",
      "source": [
        "# End time for execution\n",
        "end_time = time.time()"
      ],
      "metadata": {
        "id": "PwbkcFPAu4Bl"
      },
      "execution_count": null,
      "outputs": []
    },
    {
      "cell_type": "code",
      "source": [
        "# Print the results\n",
        "print(f\"Total Series A Funding: {result[0]}\")\n",
        "print(f\"Average Series A Funding: {result[1]:.2f}\")\n",
        "print(f\"Execution Time: {end_time - start_time:.2f} seconds\")\n",
        "print(f\"Peak Memory Usage: {peak_memory:.2f} MB\")"
      ],
      "metadata": {
        "colab": {
          "base_uri": "https://localhost:8080/"
        },
        "id": "ctFSY4DOnPJO",
        "outputId": "557bea2d-e038-46d4-af59-023d3c6fdf09"
      },
      "execution_count": null,
      "outputs": [
        {
          "output_type": "stream",
          "name": "stdout",
          "text": [
            "Total Series A Funding: 4380015000.0\n",
            "Average Series A Funding: 7525798.97\n",
            "Execution Time: 0.16 seconds\n",
            "Peak Memory Usage: 262.33 MB\n"
          ]
        }
      ]
    },
    {
      "cell_type": "code",
      "source": [
        "import sqlite3"
      ],
      "metadata": {
        "id": "yHCB6oHendOg"
      },
      "execution_count": null,
      "outputs": []
    },
    {
      "cell_type": "code",
      "source": [
        "# Connect to SQLite (it will create the database if it doesn't exist)\n",
        "conn = sqlite3.connect('funding_data.db')\n",
        "cursor = conn.cursor()"
      ],
      "metadata": {
        "id": "8fw5ZEFx444w"
      },
      "execution_count": null,
      "outputs": []
    },
    {
      "cell_type": "code",
      "source": [
        "# Create a table for the funding data\n",
        "cursor.execute('''\n",
        "CREATE TABLE IF NOT EXISTS series_a_funding (\n",
        "    total_funding REAL,\n",
        "    average_funding REAL\n",
        ")\n",
        "''')"
      ],
      "metadata": {
        "colab": {
          "base_uri": "https://localhost:8080/"
        },
        "id": "V2NS1rqj47zO",
        "outputId": "077ed4e7-d9e8-44a8-8e8f-b9ac9027cfae"
      },
      "execution_count": null,
      "outputs": [
        {
          "output_type": "execute_result",
          "data": {
            "text/plain": [
              "<sqlite3.Cursor at 0x7e99d156ce40>"
            ]
          },
          "metadata": {},
          "execution_count": 65
        }
      ]
    },
    {
      "cell_type": "code",
      "source": [
        "# Insert the pre-calculated values into the database (clear existing values first)\n",
        "cursor.execute('DELETE FROM series_a_funding')  # Clear previous entries\n",
        "cursor.execute('INSERT INTO series_a_funding (total_funding, average_funding) VALUES (?, ?)',\n",
        "               (result[0], result[1]))"
      ],
      "metadata": {
        "colab": {
          "base_uri": "https://localhost:8080/"
        },
        "id": "ehse1zrB49ZL",
        "outputId": "34bb0e1b-7ca1-4664-b6d7-ba522fed2951"
      },
      "execution_count": null,
      "outputs": [
        {
          "output_type": "execute_result",
          "data": {
            "text/plain": [
              "<sqlite3.Cursor at 0x7e99d156ce40>"
            ]
          },
          "metadata": {},
          "execution_count": 73
        }
      ]
    },
    {
      "cell_type": "code",
      "source": [
        "conn.commit()\n",
        "conn.close()"
      ],
      "metadata": {
        "id": "6oEUh3hD5Hvo"
      },
      "execution_count": null,
      "outputs": []
    },
    {
      "cell_type": "code",
      "source": [
        "print(\"Total and average Series A funding saved to SQLite database\")"
      ],
      "metadata": {
        "colab": {
          "base_uri": "https://localhost:8080/"
        },
        "id": "eWxFHvnB5T9W",
        "outputId": "5120ba5e-26ee-4226-cf4f-597090137095"
      },
      "execution_count": null,
      "outputs": [
        {
          "output_type": "stream",
          "name": "stdout",
          "text": [
            "Total and average Series A funding saved to SQLite database\n"
          ]
        }
      ]
    },
    {
      "cell_type": "code",
      "source": [],
      "metadata": {
        "id": "lOYKeqLd5w4B"
      },
      "execution_count": null,
      "outputs": []
    }
  ]
}